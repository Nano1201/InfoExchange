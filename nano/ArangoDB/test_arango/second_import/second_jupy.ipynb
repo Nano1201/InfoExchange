{
 "cells": [
  {
   "cell_type": "code",
   "execution_count": 1,
   "metadata": {},
   "outputs": [
    {
     "name": "stdout",
     "output_type": "stream",
     "text": [
      "OK!\n"
     ]
    }
   ],
   "source": [
    "PI=0\n",
    "COUNTRY=1\n",
    "CITY=2\n",
    "CO_TYPE=3\n",
    "ORG=4\n",
    "CO_NAME=5\n",
    "DEPARTMENT=6\n",
    "TITLE=7\n",
    "EMAIL=8\n",
    "\n",
    "LQ = \"{\"\n",
    "RQ = \"}\"\n",
    "\n",
    "import csv\n",
    "import os\n",
    "\n",
    "if __name__ == '__main__':\n",
    "    with open('pairlabs_cooperation.csv', newline='') as csvfile:\n",
    "        lines = csv.reader(csvfile, delimiter=',')\n",
    "        next(lines, None)  # skip the headers\n",
    "        organizations = dict()\n",
    "        cooperation_object = dict()\n",
    "        cooperation = []\n",
    "        for line in lines:\n",
    "            organizations[line[ORG]]=line[COUNTRY]\n",
    "            cooperation_object[line[CO_NAME]]=line[PI:EMAIL+1]\n",
    "            cooperation.append((line[CO_TYPE],line[PI],line[CO_NAME]))\n",
    "    csvfile.close()\n",
    "    with open('co_arangosh_cmd', 'w') as arango_cmd:\n",
    "        arango_cmd.write(\"db._useDatabase('test');\\n\")\n",
    "        arango_cmd.write(\"db._create('team');\\n\")\n",
    "        arango_cmd.write(\"db._createEdgeCollection('team_in_org');\\n\")\n",
    "        arango_cmd.write(\"db._createEdgeCollection('cooperation_person');\\n\")\n",
    "        arango_cmd.write(\"db._createEdgeCollection('cooperation_team');\\n\")\n",
    "        for key,value in organizations.items():\n",
    "            statement = 'db.org.save({2} name : \"{0}\" , conuntry : \"{1}\" {3});\\n'.format(key,value,LQ,RQ)\n",
    "            arango_cmd.write(statement)\n",
    "        for key,value in cooperation_object.items():\n",
    "            statement =  'var org_id = db._query(aql`for school in org filter school.name==\"{0}\" return school._id`).toArray()[0];\\n'.format(value[ORG])\n",
    "            if value[CO_TYPE]==\"person\":\n",
    "                statement += 'var person_id = db.person.save({3} name : \"{0}\", email : \"{1}\", expertise : \"{2}\"{4})._id;\\n'.format(key,value[EMAIL],'DL,CNN,RNN',LQ,RQ)\n",
    "                statement += 'db.work.save(person_id, org_id,{2} department:\"{0}\", title:\"{1}\"{3});\\n'.format(value[DEPARTMENT],value[TITLE],LQ,RQ)\n",
    "            elif value[CO_TYPE]==\"team\":\n",
    "                statement += 'var team_id = db.team.save( {2} name : \"{0}\" , email : \"{1}\" {3})._id;\\n'.format(key,value[EMAIL],LQ,RQ)\n",
    "                statement += 'db.team_in_org.save(team_id, org_id,{2} department:\"{0}\", title:\"{1}\"{3});\\n'.format(value[DEPARTMENT],value[TITLE],LQ,RQ)\n",
    "            arango_cmd.write(statement)\n",
    "        for t in cooperation:\n",
    "            statement = 'var pi_id = db._query(aql`for pi in person filter pi.name==\"{0}\" return pi._id`).toArray()[0];\\n'.format(t[1])\n",
    "            if t[0]==\"person\":\n",
    "                statement+= 'var cooperator_id = db._query(aql`for coo in person filter coo.name==\"{0}\" return coo._id`).toArray()[0];\\n'.format(t[2])\n",
    "                statement+= 'db.cooperation_person.save(pi_id,cooperator_id, { });\\n'\n",
    "            elif t[0]==\"team\":\n",
    "                statement+= 'var team_id = db._query(aql`for te in team filter te.name==\"{0}\" return te._id`).toArray()[0];\\n'.format(t[2])\n",
    "                statement+= 'db.cooperation_team.save(pi_id,team_id,{ });\\n'\n",
    "            arango_cmd.write(statement)\n",
    "    arango_cmd.close()\n",
    "    \n",
    "    f = os.popen(\" arangosh --server.endpoint tcp://192.168.180.140:8529  --server.password 'pair' --javascript.execute co_arangosh_cmd; \")\n",
    "    print('OK!')"
   ]
  },
  {
   "cell_type": "code",
   "execution_count": null,
   "metadata": {},
   "outputs": [],
   "source": []
  }
 ],
 "metadata": {
  "kernelspec": {
   "display_name": "Python 3",
   "language": "python",
   "name": "python3"
  },
  "language_info": {
   "codemirror_mode": {
    "name": "ipython",
    "version": 3
   },
   "file_extension": ".py",
   "mimetype": "text/x-python",
   "name": "python",
   "nbconvert_exporter": "python",
   "pygments_lexer": "ipython3",
   "version": "3.5.2"
  }
 },
 "nbformat": 4,
 "nbformat_minor": 2
}
