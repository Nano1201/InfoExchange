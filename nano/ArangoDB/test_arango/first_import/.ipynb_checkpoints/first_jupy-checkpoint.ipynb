{
 "cells": [
  {
   "cell_type": "code",
   "execution_count": 1,
   "metadata": {},
   "outputs": [
    {
     "ename": "SyntaxError",
     "evalue": "Missing parentheses in call to 'print' (<ipython-input-1-a39e0a10d5e2>, line 60)",
     "output_type": "error",
     "traceback": [
      "\u001b[0;36m  File \u001b[0;32m\"<ipython-input-1-a39e0a10d5e2>\"\u001b[0;36m, line \u001b[0;32m60\u001b[0m\n\u001b[0;31m    print 'OK!'\u001b[0m\n\u001b[0m              ^\u001b[0m\n\u001b[0;31mSyntaxError\u001b[0m\u001b[0;31m:\u001b[0m Missing parentheses in call to 'print'\n"
     ]
    }
   ],
   "source": [
    "PROJ=0\n",
    "NAME=1\n",
    "ORG=2\n",
    "DEPT=3\n",
    "TITLE=4\n",
    "EMAIL=5\n",
    "PHONE=6\n",
    "MOBILE=7\n",
    "POSITION=8\n",
    "lq=\"{\"\n",
    "rq=\"}\"\n",
    "\n",
    "import csv\n",
    "import os\n",
    "\n",
    "if __name__ == '__main__':\n",
    "    with open('pairlabs-pi.csv', newline='') as csvfile:\n",
    "        lines = csv.reader(csvfile, delimiter=',')\n",
    "        next(lines, None)  # skip the headers\n",
    "        projects = set()\n",
    "        organizations = set()\n",
    "        professors = dict()\n",
    "        participation = []\n",
    "        for line in lines:\n",
    "            proj = '/'.join(line[PROJ].split('/')[1:])\n",
    "            projects.add(proj)\n",
    "            organizations.add(line[ORG])\n",
    "            professors[line[NAME]]=line[ORG:POSITION+1]\n",
    "            participation.append((proj,line[NAME],line[POSITION]))\n",
    "    csvfile.close()\n",
    "    with open('arangosh_cmd', 'w') as arango_cmd:\n",
    "        #arango_cmd.write(\"db._dropDatabase('test'); \\n\")\n",
    "        arango_cmd.write(\"db._createDatabase('test');\\n\")\n",
    "        arango_cmd.write(\"db._useDatabase('test');\\n\")\n",
    "        arango_cmd.write(\"db._create('person');\\n\")\n",
    "        arango_cmd.write(\"db._create('proj');\\n\")\n",
    "        arango_cmd.write(\"db._create('org');\\n\")\n",
    "        arango_cmd.write(\"db._createEdgeCollection('participation');\\n\")\n",
    "        arango_cmd.write(\"db._createEdgeCollection('work');\\n\")\n",
    "        for org in organizations:\n",
    "            statement = \"db.org.save({1} name : '{0}'{2});\\n\".format(org,lq,rq)\n",
    "            arango_cmd.write(statement)\n",
    "        for proj in projects:\n",
    "            statement = \"db.proj.save({2} title : '{0}', keyword : '{1}'{3});\\n\".format(proj,'DL,CNN,RNN',lq,rq)\n",
    "            arango_cmd.write(statement)\n",
    "        for key,value in professors.items():\n",
    "            statement = \"var person_id = db.person.save({3} name : '{0}', email : '{1}', expertise : '{2}'{4})._id;\\n\".format(key,value[3],'DL,CNN,RNN',lq,rq)\n",
    "            arango_cmd.write(statement)\n",
    "            statement =  \"var org_id = db._query(`for school in org filter school.name=='{0}' return school._id`).toArray()[0];\\n\".format(value[0])\n",
    "            statement += \"db.work.save(person_id, org_id,{2} department:'{0}', title:'{1}'{3});\\n\".format(value[1],value[2],lq,rq)\n",
    "            arango_cmd.write(statement)\n",
    "        for t in participation:\n",
    "            statement = \"var person_id = db._query(`for per in person filter per.name=='{0}' return per._id`).toArray()[0];\\n\".format(t[1])\n",
    "            statement+= \"var proj_id = db._query(`for pro in proj filter pro.title=='{0}' return pro._id`).toArray()[0]; \\n\".format(t[0])\n",
    "            statement+= \"db.participation.save(person_id, proj_id, {1}position : '{0}' {2}  );\\n\".format(t[2],lq,rq) \n",
    "            arango_cmd.write(statement)\n",
    "    arango_cmd.close()\n",
    "\n",
    "    f = os.popen(\" arangosh --server.endpoint tcp://192.168.180.140:8529  --server.password 'pair' --javascript.execute arangosh_cmd; \")\n",
    "    print('OK!')"
   ]
  },
  {
   "cell_type": "code",
   "execution_count": null,
   "metadata": {},
   "outputs": [],
   "source": []
  }
 ],
 "metadata": {
  "kernelspec": {
   "display_name": "Python 3",
   "language": "python",
   "name": "python3"
  },
  "language_info": {
   "codemirror_mode": {
    "name": "ipython",
    "version": 3
   },
   "file_extension": ".py",
   "mimetype": "text/x-python",
   "name": "python",
   "nbconvert_exporter": "python",
   "pygments_lexer": "ipython3",
   "version": "3.5.2"
  }
 },
 "nbformat": 4,
 "nbformat_minor": 2
}
